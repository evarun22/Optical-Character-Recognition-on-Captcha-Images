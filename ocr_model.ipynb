{
 "cells": [
  {
   "cell_type": "code",
   "execution_count": 300,
   "metadata": {},
   "outputs": [],
   "source": [
    "import pandas as pd\n",
    "import numpy as np\n",
    "import string\n",
    "import os\n",
    "import tensorflow as tf\n",
    "import matplotlib.pyplot as plt\n",
    "from sklearn.model_selection import train_test_split\n",
    "from sklearn.metrics import accuracy_score\n",
    "import cv2\n",
    "from PIL import Image\n",
    "from scipy import misc\n",
    "from skimage import io"
   ]
  },
  {
   "cell_type": "code",
   "execution_count": 301,
   "metadata": {},
   "outputs": [],
   "source": [
    "data_path = \"C:/Users/varun/Downloads/samples\"\n",
    "labels = []\n",
    "for img_filename in os.listdir(data_path):\n",
    "    if img_filename.endswith(\".png\") or img_filename.endswith(\".jpg\"):\n",
    "        label = img_filename#.split('.')[0]\n",
    "        labels.append(label)"
   ]
  },
  {
   "cell_type": "code",
   "execution_count": 302,
   "metadata": {},
   "outputs": [],
   "source": [
    "n_samples=len(labels)"
   ]
  },
  {
   "cell_type": "code",
   "execution_count": 303,
   "metadata": {},
   "outputs": [
    {
     "data": {
      "text/plain": [
       "['226md.png',\n",
       " '22d5n.png',\n",
       " '2356g.png',\n",
       " '23mdg.png',\n",
       " '23n88.png',\n",
       " '243mm.png',\n",
       " '244e2.png',\n",
       " '245y5.png',\n",
       " '24f6w.png',\n",
       " '24pew.png',\n",
       " '25257.png',\n",
       " '253dc.png',\n",
       " '25egp.png',\n",
       " '25m6p.png',\n",
       " '25p2m.png',\n",
       " '25w53.png',\n",
       " '264m5.png',\n",
       " '268g2.png',\n",
       " '28348.png',\n",
       " '28x47.png',\n",
       " '2b827.png',\n",
       " '2bg48.png',\n",
       " '2cegf.png',\n",
       " '2cg58.png',\n",
       " '2cgyx.png',\n",
       " '2en7g.png',\n",
       " '2enf4.png',\n",
       " '2fxgd.png',\n",
       " '2g783.png',\n",
       " '2g7nm.png',\n",
       " '2gyb6.png',\n",
       " '2mg87.png',\n",
       " '2mpnn.png',\n",
       " '2n73f.png',\n",
       " '2nbc5.jpg',\n",
       " '2nbcx.png',\n",
       " '2nf26.png',\n",
       " '2npg6.png',\n",
       " '2nx38.png',\n",
       " '2p2y8.png',\n",
       " '2pfpn.png',\n",
       " '2w4y7.png',\n",
       " '2wc38.png',\n",
       " '2wx73.png',\n",
       " '2x7bm.png',\n",
       " '2xc2n.png',\n",
       " '2ycn8.png',\n",
       " '2yggg.png',\n",
       " '325fb.png',\n",
       " '32cnn.png',\n",
       " '32dnn.png',\n",
       " '33b22.png',\n",
       " '33f7m.png',\n",
       " '33n73.png',\n",
       " '33ng4.png',\n",
       " '33p4e.png',\n",
       " '34b84.png',\n",
       " '34fxm.png',\n",
       " '34pcn.png',\n",
       " '368y5.png',\n",
       " '36bc2.png',\n",
       " '36nx4.png',\n",
       " '36w25.png',\n",
       " '373gb.png',\n",
       " '377xx.png',\n",
       " '378e5.png',\n",
       " '37d52.png',\n",
       " '37ep6.png',\n",
       " '387g2.png',\n",
       " '38n57.png',\n",
       " '3b4we.png',\n",
       " '3bd8f.png',\n",
       " '3bfnd.png',\n",
       " '3bnyf.png',\n",
       " '3bx86.png',\n",
       " '3c7de.jpg',\n",
       " '3cpwb.png',\n",
       " '3d7bd.png',\n",
       " '3den6.png',\n",
       " '3dgmf.png',\n",
       " '3ebnn.png',\n",
       " '3ebpw.png',\n",
       " '3eny7.png',\n",
       " '3fbxd.png',\n",
       " '3g2w6.png',\n",
       " '3mxdn.png',\n",
       " '3n2b4.png',\n",
       " '3n3cf.png',\n",
       " '3n7mx.png',\n",
       " '3ndxd.png',\n",
       " '3nfdn.png',\n",
       " '3nw7w.png',\n",
       " '3ny45.png',\n",
       " '3p4nn.png',\n",
       " '3p67n.png',\n",
       " '3pe4g.png',\n",
       " '3w2bw.png',\n",
       " '3wnd3.png',\n",
       " '3x325.png',\n",
       " '3x5fm.png',\n",
       " '3xcgg.png',\n",
       " '3xng6.png',\n",
       " '3ye2e.png',\n",
       " '3ygde.png',\n",
       " '3ym7f.png',\n",
       " '428b6.png',\n",
       " '42dw4.png',\n",
       " '42nxy.png',\n",
       " '42xpy.png',\n",
       " '43gey.png',\n",
       " '43mn5.png',\n",
       " '43p5d.png',\n",
       " '43xfe.png',\n",
       " '4433m.png',\n",
       " '445cc.png',\n",
       " '44c22.png',\n",
       " '44fyb.png',\n",
       " '44xe8.png',\n",
       " '44ype.png',\n",
       " '467d5.png',\n",
       " '46mbm.png',\n",
       " '4743p.png',\n",
       " '474ff.png',\n",
       " '478nx.png',\n",
       " '47e4p.png',\n",
       " '47m2b.png',\n",
       " '488de.png',\n",
       " '4b2pw.png',\n",
       " '4c8n8.png',\n",
       " '4cfw8.png',\n",
       " '4cn7b.png',\n",
       " '4d22m.png',\n",
       " '4dgf7.png',\n",
       " '4dw3w.png',\n",
       " '4egem.png',\n",
       " '4exnn.png',\n",
       " '4f8yp.png',\n",
       " '4fc36.png',\n",
       " '4fp5g.png',\n",
       " '4gb3f.png',\n",
       " '4gycb.png',\n",
       " '4m2w5.png',\n",
       " '4n2yg.png',\n",
       " '4n3mn.png',\n",
       " '4nc37.png',\n",
       " '4nnf3.png',\n",
       " '4w6mw.png',\n",
       " '4w76g.png',\n",
       " '4yc85.png',\n",
       " '4ycex.png',\n",
       " '4ynf3.png',\n",
       " '52447.png',\n",
       " '5325m.png',\n",
       " '537nf.png',\n",
       " '53mn8.png',\n",
       " '53wb8.png',\n",
       " '53wp3.png',\n",
       " '556wd.png',\n",
       " '55w5c.png',\n",
       " '55y2m.png',\n",
       " '56c34.png',\n",
       " '56m6y.png',\n",
       " '56ncx.png',\n",
       " '573bn.png',\n",
       " '573d8.png',\n",
       " '574d7.png',\n",
       " '57b27.png',\n",
       " '57gnx.png',\n",
       " '57wdp.png',\n",
       " '58b5m.png',\n",
       " '58pnp.png',\n",
       " '5bb66.png',\n",
       " '5bg8f.png',\n",
       " '5bgp2.png',\n",
       " '5bnd7.png',\n",
       " '5dxnm.png',\n",
       " '5ep3n.png',\n",
       " '5expp.png',\n",
       " '5f3gf.png',\n",
       " '5fyem.png',\n",
       " '5g5e5.png',\n",
       " '5gcd3.png',\n",
       " '5mcy7.png',\n",
       " '5mf7c.png',\n",
       " '5mfff.png',\n",
       " '5mgn4.png',\n",
       " '5mnpd.png',\n",
       " '5n245.png',\n",
       " '5n3w4.png',\n",
       " '5n728.png',\n",
       " '5n732.png',\n",
       " '5ng6e.png',\n",
       " '5nggg.png',\n",
       " '5nm6d.png',\n",
       " '5nnff.png',\n",
       " '5np4m.png',\n",
       " '5npdn.png',\n",
       " '5nxnn.png',\n",
       " '5p3mm.png',\n",
       " '5p8fm.png',\n",
       " '5pm6b.png',\n",
       " '5wddw.png',\n",
       " '5x5nx.png',\n",
       " '5x7x5.png',\n",
       " '5xd2e.png',\n",
       " '5xwcg.png',\n",
       " '5ywwf.png',\n",
       " '5yxgp.png',\n",
       " '62fgn.jpg',\n",
       " '62nb3.png',\n",
       " '63824.png',\n",
       " '63pxe.png',\n",
       " '646x8.png',\n",
       " '64b3p.png',\n",
       " '64m82.png',\n",
       " '658xe.png',\n",
       " '65ebm.png',\n",
       " '65m85.png',\n",
       " '65nmw.jpg',\n",
       " '662bw.png',\n",
       " '664dn.png',\n",
       " '664nf.png',\n",
       " '66wp5.png',\n",
       " '675p3.png',\n",
       " '677g3.png',\n",
       " '678w3.png',\n",
       " '67dey.png',\n",
       " '6825y.png',\n",
       " '68wfd.png',\n",
       " '68x48.png',\n",
       " '6b46g.png',\n",
       " '6b4w6.png',\n",
       " '6bdn5.png',\n",
       " '6bnnm.png',\n",
       " '6bxwg.png',\n",
       " '6c3n6.png',\n",
       " '6c3p5.png',\n",
       " '6cm6m.png',\n",
       " '6cwxe.png',\n",
       " '6dd2y.png',\n",
       " '6dmx7.png',\n",
       " '6e2dg.png',\n",
       " '6e554.png',\n",
       " '6e6pn.png',\n",
       " '6ecbn.png',\n",
       " '6end3.png',\n",
       " '6f2yc.png',\n",
       " '6f857.png',\n",
       " '6fg8c.png',\n",
       " '6fgdw.png',\n",
       " '6fn84.png',\n",
       " '6g45w.png',\n",
       " '6ge3p.png',\n",
       " '6gnm3.png',\n",
       " '6m5eg.png',\n",
       " '6mege.png',\n",
       " '6mn8n.png',\n",
       " '6mygb.png',\n",
       " '6n443.png',\n",
       " '6n5fd.png',\n",
       " '6n6gg.png',\n",
       " '6ng6n.png',\n",
       " '6ng6w.png',\n",
       " '6p2ge.png',\n",
       " '6p7gx.png',\n",
       " '6pfy4.png',\n",
       " '6pwcn.png',\n",
       " '6wb76.png',\n",
       " '6wg4n.png',\n",
       " '6wnyc.png',\n",
       " '6xen4.png',\n",
       " '6xpme.png',\n",
       " '6xxdx.png',\n",
       " '6ydyp.png',\n",
       " '728n8.png',\n",
       " '72m6f.png',\n",
       " '73mnx.png',\n",
       " '74853.png',\n",
       " '74eyg.png',\n",
       " '75pfw.png',\n",
       " '76353.png',\n",
       " '76n7p.png',\n",
       " '76nxn.png',\n",
       " '76y6f.png',\n",
       " '77387.png',\n",
       " '77n6g.png',\n",
       " '77wp4.png',\n",
       " '785n4.png',\n",
       " '78dw6.jpg',\n",
       " '78eec.png',\n",
       " '7b4bm.png',\n",
       " '7bb7b.png',\n",
       " '7bwm2.png',\n",
       " '7cdge.png',\n",
       " '7cgym.png',\n",
       " '7d44m.png',\n",
       " '7dgc2.png',\n",
       " '7dwx4.png',\n",
       " '7dxbd.png',\n",
       " '7dyww.png',\n",
       " '7e2y7.png',\n",
       " '7f8b3.png',\n",
       " '7fde7.png',\n",
       " '7fmcy.png',\n",
       " '7g3nf.png',\n",
       " '7gce6.png',\n",
       " '7gmf3.png',\n",
       " '7gnge.png',\n",
       " '7gp47.png',\n",
       " '7m8px.png',\n",
       " '7mgmf.png',\n",
       " '7nnnx.png',\n",
       " '7p852.png',\n",
       " '7pcd7.png',\n",
       " '7pn5g.png',\n",
       " '7w67m.png',\n",
       " '7wn74.png',\n",
       " '7wnpm.png',\n",
       " '7wyp4.png',\n",
       " '7xcyd.png',\n",
       " '7xd5m.png',\n",
       " '7y2x4.png',\n",
       " '7yf62.png',\n",
       " '823p2.png',\n",
       " '82fx2.png',\n",
       " '832f3.png',\n",
       " '84py4.jpg',\n",
       " '84w7x.png',\n",
       " '85622.png',\n",
       " '85dxn.png',\n",
       " '85pew.jpg',\n",
       " '865wm.png',\n",
       " '8684m.png',\n",
       " '87d4c.png',\n",
       " '87nym.png',\n",
       " '88bgx.png',\n",
       " '88y52.png',\n",
       " '8b735.png',\n",
       " '8bbm4.png',\n",
       " '8bbw8.png',\n",
       " '8c23f.png',\n",
       " '8c2wy.png',\n",
       " '8cccc.png',\n",
       " '8cm46.png',\n",
       " '8d2nd.png',\n",
       " '8d4wm.png',\n",
       " '8d8ep.png',\n",
       " '8e32m.png',\n",
       " '8eggg.png',\n",
       " '8fexn.png',\n",
       " '8g4yp.png',\n",
       " '8gecm.png',\n",
       " '8gf7n.png',\n",
       " '8gmc4.png',\n",
       " '8gmnx.png',\n",
       " '8n2pg.png',\n",
       " '8n34n.png',\n",
       " '8n4n8.png',\n",
       " '8n56m.png',\n",
       " '8n5p3.png',\n",
       " '8n5pn.png',\n",
       " '8n62n.png',\n",
       " '8n65n.png',\n",
       " '8nbew.png',\n",
       " '8ne4g.png',\n",
       " '8nn73.png',\n",
       " '8np22.png',\n",
       " '8npd5.png',\n",
       " '8npe3.png',\n",
       " '8pfxx.png',\n",
       " '8w754.png',\n",
       " '8w875.png',\n",
       " '8wy7d.png',\n",
       " '8xef7.png',\n",
       " '8y63f.png',\n",
       " '8y6b3.png',\n",
       " '8ypdn.png',\n",
       " 'b26nd.png',\n",
       " 'b28g8.png',\n",
       " 'b2g8e.png',\n",
       " 'b2nen.png',\n",
       " 'b35f6.png',\n",
       " 'b3xpn.png',\n",
       " 'b43nw.png',\n",
       " 'b4d7c.png',\n",
       " 'b4ncn.png',\n",
       " 'b4ndb.jpg',\n",
       " 'b4y5x.png',\n",
       " 'b55d6.png',\n",
       " 'b5dn4.png',\n",
       " 'b5fm7.png',\n",
       " 'b5nmm.png',\n",
       " 'b5pnn.png',\n",
       " 'b685n.png',\n",
       " 'b6f2p.png',\n",
       " 'b84xc.png',\n",
       " 'bbymy.png',\n",
       " 'bc8nf.png',\n",
       " 'bcwnn.png',\n",
       " 'bd3b7.png',\n",
       " 'bdbb3.png',\n",
       " 'bdg84.png',\n",
       " 'be3bp.png',\n",
       " 'be6np.png',\n",
       " 'befbd.png',\n",
       " 'bf52c.png',\n",
       " 'bgb48.png',\n",
       " 'bgd4m.png',\n",
       " 'bgem5.png',\n",
       " 'bgxcd.jpg',\n",
       " 'bm3p8.png',\n",
       " 'bmxpe.png',\n",
       " 'bn5mw.png',\n",
       " 'bnc2f.png',\n",
       " 'bnc5f.png',\n",
       " 'bny23.png',\n",
       " 'bny4w.png',\n",
       " 'bp2d4.png',\n",
       " 'bp6mw.png',\n",
       " 'bpwd7.png',\n",
       " 'bw44w.png',\n",
       " 'bw5nf.png',\n",
       " 'bw5ym.png',\n",
       " 'bw6n6.png',\n",
       " 'bwmee.png',\n",
       " 'bx5ed.jpg',\n",
       " 'bxxfc.png',\n",
       " 'by5y3.png',\n",
       " 'byc82.png',\n",
       " 'byfgn.png',\n",
       " 'c2fb7.png',\n",
       " 'c2g4d.png',\n",
       " 'c2pg6.png',\n",
       " 'c2yn8.png',\n",
       " 'c353e.png',\n",
       " 'c3572.png',\n",
       " 'c3n8x.png',\n",
       " 'c43b4.png',\n",
       " 'c4527.png',\n",
       " 'c482b.png',\n",
       " 'c4bgd.png',\n",
       " 'c4bny.png',\n",
       " 'c4mcm.png',\n",
       " 'c55c6.png',\n",
       " 'c5xne.png',\n",
       " 'c6745.png',\n",
       " 'c6f8g.png',\n",
       " 'c6we6.png',\n",
       " 'c753e.png',\n",
       " 'c7gb3.png',\n",
       " 'c7nn8.png',\n",
       " 'c86md.png',\n",
       " 'c8fxy.png',\n",
       " 'c8n8c.png',\n",
       " 'cb8cf.png',\n",
       " 'cc845.png',\n",
       " 'ccf2w.png',\n",
       " 'ccn2x.png',\n",
       " 'cd4eg.png',\n",
       " 'cd6p4.png',\n",
       " 'cdcb3.png',\n",
       " 'cdf77.png',\n",
       " 'cdfen.png',\n",
       " 'cdmn8.png',\n",
       " 'cen55.png',\n",
       " 'cewnm.png',\n",
       " 'cfc2y.png',\n",
       " 'cfc56.png',\n",
       " 'cffp4.png',\n",
       " 'cfn53.png',\n",
       " 'cfp86.png',\n",
       " 'cfw6e.png',\n",
       " 'cg5dd.png',\n",
       " 'cgcgb.png',\n",
       " 'cm6yb.png',\n",
       " 'cndmc.jpg',\n",
       " 'cnex4.png',\n",
       " 'cnmnn.png',\n",
       " 'cnwyc.png',\n",
       " 'cpc8c.png',\n",
       " 'cpe63.png',\n",
       " 'cwdnx.png',\n",
       " 'cwgyx.png',\n",
       " 'cwmny.png',\n",
       " 'cx3wg.png',\n",
       " 'cy3nw.png',\n",
       " 'd22bd.png',\n",
       " 'd22n7.png',\n",
       " 'd22y5.png',\n",
       " 'd236n.png',\n",
       " 'd2n8x.jpg',\n",
       " 'd2nbn.png',\n",
       " 'd2ycw.png',\n",
       " 'd378n.png',\n",
       " 'd3c7y.png',\n",
       " 'd3c8y.png',\n",
       " 'd3ycn.png',\n",
       " 'd4n82.png',\n",
       " 'd4ppy.png',\n",
       " 'd666m.png',\n",
       " 'd66cn.png',\n",
       " 'd6fcn.png',\n",
       " 'd75b5.png',\n",
       " 'd7c5x.png',\n",
       " 'd7en3.png',\n",
       " 'd7nn3.png',\n",
       " 'd8dce.png',\n",
       " 'd8xcn.png',\n",
       " 'dbex3.png',\n",
       " 'dbfen.png',\n",
       " 'dbny3.png',\n",
       " 'dbpcd.png',\n",
       " 'dc436.png',\n",
       " 'dce8y.png',\n",
       " 'dcnp8.png',\n",
       " 'dd5w5.png',\n",
       " 'dd764.png',\n",
       " 'ddcdd.png',\n",
       " 'ddcne.png',\n",
       " 'ddmyg.png',\n",
       " 'ddnpf.png',\n",
       " 'ddpyb.png',\n",
       " 'ddxpp.jpg',\n",
       " 'de45x.png',\n",
       " 'de7f8.png',\n",
       " 'deep5.png',\n",
       " 'defyx.png',\n",
       " 'deneb.png',\n",
       " 'dfnx4.png',\n",
       " 'dgcm4.jpg',\n",
       " 'dmw8n.png',\n",
       " 'dmx8p.png',\n",
       " 'dmxp8.png',\n",
       " 'dn26n.png',\n",
       " 'dn2ym.png',\n",
       " 'dn5df.png',\n",
       " 'dnmd8.png',\n",
       " 'dnne7.png',\n",
       " 'dnxdp.png',\n",
       " 'dpbyd.png',\n",
       " 'dw3nn.png',\n",
       " 'dw6mn.png',\n",
       " 'dw8d3.png',\n",
       " 'dxwcw.png',\n",
       " 'dy3cx.png',\n",
       " 'dyp7n.png',\n",
       " 'dyxnc.png',\n",
       " 'e25xg.png',\n",
       " 'e2d66.png',\n",
       " 'e2mg2.png',\n",
       " 'e3cfe.jpg',\n",
       " 'e3ndn.png',\n",
       " 'e43ym.png',\n",
       " 'e46pd.png',\n",
       " 'e46yw.png',\n",
       " 'e4gd7.png',\n",
       " 'e5n66.png',\n",
       " 'e667x.png',\n",
       " 'e6b7y.png',\n",
       " 'e6m6p.png',\n",
       " 'e72cd.png',\n",
       " 'e76n4.png',\n",
       " 'e7nx4.png',\n",
       " 'e7x45.png',\n",
       " 'e84n2.png',\n",
       " 'e8dxn.png',\n",
       " 'e8e5e.png',\n",
       " 'ebcbx.png',\n",
       " 'ec6pm.png',\n",
       " 'ecd4w.png',\n",
       " 'edg3p.png',\n",
       " 'edwny.png',\n",
       " 'ee8fg.png',\n",
       " 'een23.png',\n",
       " 'ef4mn.png',\n",
       " 'ef4np.png',\n",
       " 'efb3f.png',\n",
       " 'efe62.png',\n",
       " 'efg72.png',\n",
       " 'efgx5.png',\n",
       " 'efx34.png',\n",
       " 'egxmp.png',\n",
       " 'emwpn.png',\n",
       " 'en32e.png',\n",
       " 'en4n4.png',\n",
       " 'eng53.png',\n",
       " 'enn7n.png',\n",
       " 'ennmm.png',\n",
       " 'enpw2.png',\n",
       " 'ep85x.png',\n",
       " 'eppg3.png',\n",
       " 'ewcf5.png',\n",
       " 'ewnx8.png',\n",
       " 'ewyg7.jpg',\n",
       " 'excmn.png',\n",
       " 'exycn.png',\n",
       " 'f228n.png',\n",
       " 'f22bn.png',\n",
       " 'f2fge.png',\n",
       " 'f2m8n.png',\n",
       " 'f35xp.png',\n",
       " 'f364x.png',\n",
       " 'f4fn2.png',\n",
       " 'f4wfn.png',\n",
       " 'f5cm2.png',\n",
       " 'f5e5e.png',\n",
       " 'f6bpw.jpg',\n",
       " 'f6ne5.png',\n",
       " 'f6ww8.png',\n",
       " 'f74x3.png',\n",
       " 'f753f.png',\n",
       " 'f75cx.png',\n",
       " 'f7cey.png',\n",
       " 'f83pn.png',\n",
       " 'f858x.png',\n",
       " 'f85y3.png',\n",
       " 'f8f8g.png',\n",
       " 'fbp2c.png',\n",
       " 'fc2ff.png',\n",
       " 'fc6xb.png',\n",
       " 'fcey3.png',\n",
       " 'fcmem.png',\n",
       " 'fcne6.png',\n",
       " 'fdpgd.png',\n",
       " 'feyc8.png',\n",
       " 'ffd6p.png',\n",
       " 'ffnxn.png',\n",
       " 'ffpxf.png',\n",
       " 'fg38b.png',\n",
       " 'fg7mg.png',\n",
       " 'fg8n4.png',\n",
       " 'fgb36.jpg',\n",
       " 'fnbfw.png',\n",
       " 'fncnb.png',\n",
       " 'fp382.png',\n",
       " 'fp3wy.png',\n",
       " 'fp5wn.png',\n",
       " 'fp762.png',\n",
       " 'fpw76.png',\n",
       " 'fw3b2.png',\n",
       " 'fwxdp.png',\n",
       " 'fxpw3.png',\n",
       " 'fy2nd.png',\n",
       " 'fyfbn.png',\n",
       " 'fywb8.png',\n",
       " 'g247w.png',\n",
       " 'g2577.png',\n",
       " 'g2fnw.png',\n",
       " 'g3dy6.png',\n",
       " 'g3ex3.png',\n",
       " 'g55b4.png',\n",
       " 'g6n7x.png',\n",
       " 'g78gn.png',\n",
       " 'g7fmc.png',\n",
       " 'g7gnf.png',\n",
       " 'g7wxw.png',\n",
       " 'g842c.png',\n",
       " 'g888x.png',\n",
       " 'g8gnd.png',\n",
       " 'gbxyy.png',\n",
       " 'gc277.png',\n",
       " 'gc2wd.png',\n",
       " 'gc83b.png',\n",
       " 'gcfgp.png',\n",
       " 'gcx6f.png',\n",
       " 'gd4mf.png',\n",
       " 'gd8fb.png',\n",
       " 'gdng3.png',\n",
       " 'gecmf.png',\n",
       " 'gegw4.png',\n",
       " 'gewfy.png',\n",
       " 'geyn5.jpg',\n",
       " 'gf2g4.png',\n",
       " 'gfbx6.png',\n",
       " 'gfp54.png',\n",
       " 'gfxcc.png',\n",
       " 'ggd7m.png',\n",
       " 'gm2c2.png',\n",
       " 'gm6nn.png',\n",
       " 'gm7n8.png',\n",
       " 'gmmne.jpg',\n",
       " 'gn2d3.png',\n",
       " 'gn2xy.png',\n",
       " 'gnbde.png',\n",
       " 'gnbn4.png',\n",
       " 'gnc3n.png',\n",
       " 'gnf85.png',\n",
       " 'gng6e.png',\n",
       " 'gny6b.png',\n",
       " 'gp22x.png',\n",
       " 'gp7c5.png',\n",
       " 'gpnxn.png',\n",
       " 'gpxng.png',\n",
       " 'gw468.png',\n",
       " 'gw53m.png',\n",
       " 'gwn53.png',\n",
       " 'gwnm6.png',\n",
       " 'gxx2p.png',\n",
       " 'gxxpf.png',\n",
       " 'gy433.png',\n",
       " 'gy5bf.png',\n",
       " 'gy8xb.png',\n",
       " 'gymmn.png',\n",
       " 'm22e3.png',\n",
       " 'm23bp.png',\n",
       " 'm2576.png',\n",
       " 'm2nf4.png',\n",
       " 'm3588.png',\n",
       " 'm3b5p.png',\n",
       " 'm3wfw.png',\n",
       " 'm448b.png',\n",
       " 'm457d.png',\n",
       " 'm4fd8.png',\n",
       " 'm4g8g.png',\n",
       " 'm5meg.png',\n",
       " 'm5ym2.png',\n",
       " 'm67b3.png',\n",
       " 'm6n4x.png',\n",
       " 'm74dm.png',\n",
       " 'm75bf.png',\n",
       " 'm8gmx.png',\n",
       " 'm8m4x.png',\n",
       " 'mb4en.png',\n",
       " 'mbf58.png',\n",
       " 'mbp2y.png',\n",
       " 'mc35n.png',\n",
       " 'mc8w2.png',\n",
       " 'mcc2x.png',\n",
       " 'mcg43.png',\n",
       " 'mcyfx.png',\n",
       " 'md344.png',\n",
       " 'mddgb.png',\n",
       " 'mdxpn.png',\n",
       " 'mdyp7.png',\n",
       " 'men4f.png',\n",
       " 'mfb3x.png',\n",
       " 'mfc35.png',\n",
       " 'mg5nn.png',\n",
       " 'mgdwb.png',\n",
       " 'mggce.png',\n",
       " 'mgw3n.png',\n",
       " 'mm3nn.png',\n",
       " 'mmc5n.png',\n",
       " 'mmfm6.png',\n",
       " 'mmg2m.png',\n",
       " 'mmg38.png',\n",
       " 'mmy5n.png',\n",
       " 'mn5c4.png',\n",
       " 'mnef5.png',\n",
       " 'mp7wp.png',\n",
       " 'mpmy5.png',\n",
       " 'mpxfb.png',\n",
       " 'mw5p2.png',\n",
       " 'mwdf6.png',\n",
       " 'mwxwp.png',\n",
       " 'mx8bb.png',\n",
       " 'mxnw4.png',\n",
       " 'mxyxw.png',\n",
       " 'my84e.png',\n",
       " 'myc3c.png',\n",
       " 'mye68.png',\n",
       " 'myf82.png',\n",
       " 'n265y.png',\n",
       " 'n2by7.png',\n",
       " 'n2c85.jpg',\n",
       " 'n2gmg.png',\n",
       " 'n336e.png',\n",
       " 'n373n.png',\n",
       " 'n3bm6.png',\n",
       " 'n3ffn.png',\n",
       " 'n3m6x.png',\n",
       " 'n3x4c.png',\n",
       " 'n3xfg.jpg',\n",
       " 'n464c.png',\n",
       " 'n4b4m.png',\n",
       " 'n4cpy.png',\n",
       " 'n4wwn.png',\n",
       " 'n4xx5.png',\n",
       " 'n5cm7.png',\n",
       " 'n5n8b.png',\n",
       " 'n5w5g.png',\n",
       " 'n5wbg.png',\n",
       " 'n5x2n.png',\n",
       " 'n6f4b.png',\n",
       " 'n6nn2.png',\n",
       " 'n6xc5.png',\n",
       " 'n7dyb.png',\n",
       " 'n7ebx.png',\n",
       " 'n7enn.png',\n",
       " 'n7ff2.png',\n",
       " 'n7g4f.png',\n",
       " 'n7meb.png',\n",
       " 'n8fp6.png',\n",
       " 'n8pfe.png',\n",
       " 'n8wxm.jpg',\n",
       " 'n8ydd.png',\n",
       " 'nb267.png',\n",
       " 'nb45d.png',\n",
       " 'nbcgb.png',\n",
       " 'nbf8m.png',\n",
       " 'nbfx5.png',\n",
       " 'nbmx7.png',\n",
       " 'nbp3e.png',\n",
       " 'nbwnn.png',\n",
       " 'nbwpn.png',\n",
       " 'nc4yg.png',\n",
       " 'ncfgb.png',\n",
       " 'ncw4g.png',\n",
       " 'ncww7.png',\n",
       " 'ncyx8.png',\n",
       " 'nd5wg.png',\n",
       " 'ndecc.png',\n",
       " 'ndg2b.png',\n",
       " 'ndme7.png',\n",
       " 'ndyfe.png',\n",
       " 'ne325.png',\n",
       " 'neecd.png',\n",
       " 'neggn.png',\n",
       " 'nf2n8.png',\n",
       " 'nf7bn.png',\n",
       " 'nf8b8.png',\n",
       " 'nfbg8.png',\n",
       " 'nfcb5.png',\n",
       " 'nfcwy.png',\n",
       " 'nfd8g.png',\n",
       " 'nfg23.png',\n",
       " 'nfndw.png',\n",
       " 'ng2gw.png',\n",
       " 'ng46m.png',\n",
       " 'ng6yp.png',\n",
       " 'ng756.png',\n",
       " 'ngn26.png',\n",
       " 'nm248.png',\n",
       " 'nm46n.png',\n",
       " 'nmw46.png',\n",
       " 'nmy2x.png',\n",
       " 'nn4wx.png',\n",
       " 'nn6mg.png',\n",
       " 'nn6w6.jpg',\n",
       " 'nnf8b.png',\n",
       " 'nnfx3.png',\n",
       " 'nngxc.png',\n",
       " 'nnn57.png',\n",
       " 'nnn5p.png',\n",
       " 'nnp4e.png',\n",
       " 'nny5e.png',\n",
       " 'npxb7.png',\n",
       " 'nw5b2.png',\n",
       " 'nwfde.png',\n",
       " 'nwg2m.png',\n",
       " 'nwncn.png',\n",
       " 'nxc83.png',\n",
       " 'nxcmn.png',\n",
       " 'nxf2c.jpg',\n",
       " 'nxn4f.png',\n",
       " 'nxx25.png',\n",
       " 'nxxf8.png',\n",
       " 'ny3dw.png',\n",
       " 'ny3nn.png',\n",
       " 'ny5dp.png',\n",
       " 'ny8np.png',\n",
       " 'nybcx.png',\n",
       " 'p24gn.png',\n",
       " 'p2dw7.png',\n",
       " 'p2m6n.png',\n",
       " 'p2x7x.png',\n",
       " 'p2ym2.png',\n",
       " 'p4nm4.png',\n",
       " 'p4pde.png',\n",
       " 'p57fn.png',\n",
       " 'p5g5m.png',\n",
       " 'p5nce.png',\n",
       " 'p6mn8.png',\n",
       " 'p8c24.png',\n",
       " 'p8ngx.png',\n",
       " 'p8wwf.png',\n",
       " 'pbpgc.png',\n",
       " 'pcede.png',\n",
       " 'pcm7f.png',\n",
       " 'pcmcc.jpg',\n",
       " 'pcpg6.png',\n",
       " 'pdcp4.png',\n",
       " 'pdw38.png',\n",
       " 'pdyc8.png',\n",
       " 'pe4xn.png',\n",
       " 'pf4nb.png',\n",
       " 'pf5ng.png',\n",
       " 'pg2pm.png',\n",
       " 'pg2yx.png',\n",
       " 'pg4bf.png',\n",
       " 'pgg3n.png',\n",
       " 'pgm2e.png',\n",
       " 'pgmn2.png',\n",
       " 'pgwnp.png',\n",
       " 'pm363.png',\n",
       " 'pm47f.png',\n",
       " 'pmd3w.png',\n",
       " 'pme86.png',\n",
       " 'pmf5w.png',\n",
       " 'pmg55.png',\n",
       " 'pn7pn.png',\n",
       " 'pnmxf.png',\n",
       " 'pnnwy.png',\n",
       " 'pp546.png',\n",
       " 'pp87n.png',\n",
       " 'ppwyd.png',\n",
       " 'ppx77.png',\n",
       " 'pw5nc.png',\n",
       " 'pwebm.png',\n",
       " 'pwmbn.png',\n",
       " 'pwn5e.png',\n",
       " 'px2xp.png',\n",
       " 'px8n8.png',\n",
       " 'pxdwp.png',\n",
       " 'pxne8.png',\n",
       " 'pybee.png',\n",
       " 'pyefb.png',\n",
       " 'pyf65.png',\n",
       " 'pym7p.png',\n",
       " 'w2e87.png',\n",
       " 'w2n7e.png',\n",
       " 'w2yp7.png',\n",
       " 'w46ep.png',\n",
       " 'w48cw.png',\n",
       " 'w4cdc.png',\n",
       " 'w4cnn.png',\n",
       " 'w4nfx.png',\n",
       " 'w4x2m.png',\n",
       " 'w52fn.png',\n",
       " 'w6ny4.jpg',\n",
       " 'w6pxy.png',\n",
       " 'w6yne.png',\n",
       " 'w75w8.png',\n",
       " 'w7e6m.png',\n",
       " 'w8bnx.png',\n",
       " 'w8f36.png',\n",
       " 'wb3ed.png',\n",
       " 'wbncw.png',\n",
       " 'wc2bd.png',\n",
       " 'wce5n.png',\n",
       " 'wd2gb.png',\n",
       " 'wddcp.png',\n",
       " 'wdww8.png',\n",
       " 'wecfd.png',\n",
       " 'wf684.png',\n",
       " 'wfy5m.png',\n",
       " 'wg625.png',\n",
       " 'wgnwp.png',\n",
       " 'wm47f.png',\n",
       " 'wm746.png',\n",
       " 'wmpmp.png',\n",
       " 'wnmyn.png',\n",
       " 'wnpec.png',\n",
       " 'wwmn6.png',\n",
       " 'wxcn8.png',\n",
       " 'wxy4n.png',\n",
       " 'wyc25.png',\n",
       " 'wye85.png',\n",
       " 'x277e.png',\n",
       " 'x2cnn.png',\n",
       " 'x347n.png',\n",
       " 'x362g.png',\n",
       " 'x37bf.png',\n",
       " 'x38fn.png',\n",
       " 'x3deb.png',\n",
       " 'x3fwf.png',\n",
       " 'x44n4.png',\n",
       " 'x458w.png',\n",
       " 'x4f7g.png',\n",
       " 'x4gg5.png',\n",
       " 'x4pnp.png',\n",
       " 'x5f54.png',\n",
       " 'x5nyn.png',\n",
       " 'x6pdb.png',\n",
       " 'x7422.png',\n",
       " 'x74b2.png',\n",
       " 'x7547.png',\n",
       " 'x76mn.png',\n",
       " 'x7746.png',\n",
       " 'x775w.png',\n",
       " 'x8e8n.png',\n",
       " 'x8xnp.png',\n",
       " 'xbcbx.png',\n",
       " 'xbem6.png',\n",
       " 'xc68n.png',\n",
       " 'xce8d.png',\n",
       " 'xcf88.png',\n",
       " 'xcmbp.png',\n",
       " 'xdcn4.png',\n",
       " 'xdn65.png',\n",
       " 'xe6eb.png',\n",
       " 'xe8xm.png',\n",
       " 'xemyg.png',\n",
       " 'xf4p4.png',\n",
       " 'xf5g7.png',\n",
       " 'xfg65.png',\n",
       " 'xfgxb.png',\n",
       " 'xfn6n.png',\n",
       " 'xgcxy.png',\n",
       " 'xmcym.png',\n",
       " ...]"
      ]
     },
     "execution_count": 303,
     "metadata": {},
     "output_type": "execute_result"
    }
   ],
   "source": [
    "labels"
   ]
  },
  {
   "cell_type": "code",
   "execution_count": 304,
   "metadata": {},
   "outputs": [],
   "source": [
    "cropped_images=[]\n",
    "cropped_images_labels=[]\n",
    "for i in range(n_samples):\n",
    "    #image=cv2.imread('samples/'+str(labels[i]))\n",
    "    image=io.imread('samples/'+str(labels[i]), as_gray=True)\n",
    "    crop_image_1=image[0:50, 30:50]\n",
    "    crop_image_2=image[0:50, 50:70]\n",
    "    crop_image_3=image[0:50, 70:90]\n",
    "    crop_image_4=image[0:50, 95:115]\n",
    "    crop_image_5=image[0:50, 115:135]\n",
    "    crop_image_1_label=labels[i][0]\n",
    "    crop_image_2_label=labels[i][1]\n",
    "    crop_image_3_label=labels[i][2]\n",
    "    crop_image_4_label=labels[i][3]\n",
    "    crop_image_5_label=labels[i][4]\n",
    "    cropped_images.append(crop_image_1)\n",
    "    cropped_images.append(crop_image_2)\n",
    "    cropped_images.append(crop_image_3)\n",
    "    cropped_images.append(crop_image_4)\n",
    "    cropped_images.append(crop_image_5)\n",
    "    cropped_images_labels.append(crop_image_1_label)\n",
    "    cropped_images_labels.append(crop_image_2_label)\n",
    "    cropped_images_labels.append(crop_image_3_label)\n",
    "    cropped_images_labels.append(crop_image_4_label)\n",
    "    cropped_images_labels.append(crop_image_5_label)"
   ]
  },
  {
   "cell_type": "code",
   "execution_count": 305,
   "metadata": {},
   "outputs": [
    {
     "data": {
      "text/plain": [
       "5325"
      ]
     },
     "execution_count": 305,
     "metadata": {},
     "output_type": "execute_result"
    }
   ],
   "source": [
    "len(cropped_images)"
   ]
  },
  {
   "cell_type": "code",
   "execution_count": 306,
   "metadata": {},
   "outputs": [
    {
     "data": {
      "text/plain": [
       "5325"
      ]
     },
     "execution_count": 306,
     "metadata": {},
     "output_type": "execute_result"
    }
   ],
   "source": [
    "len(cropped_images_labels)"
   ]
  },
  {
   "cell_type": "code",
   "execution_count": 307,
   "metadata": {},
   "outputs": [
    {
     "name": "stdout",
     "output_type": "stream",
     "text": [
      "2 3 5 6 g\n"
     ]
    }
   ],
   "source": [
    "print(cropped_images_labels[10],cropped_images_labels[11],cropped_images_labels[12],cropped_images_labels[13],cropped_images_labels[14])"
   ]
  },
  {
   "cell_type": "code",
   "execution_count": 308,
   "metadata": {},
   "outputs": [
    {
     "data": {
      "text/plain": [
       "<matplotlib.image.AxesImage at 0x2e8d7e04c88>"
      ]
     },
     "execution_count": 308,
     "metadata": {},
     "output_type": "execute_result"
    },
    {
     "data": {
      "image/png": "[encoded data removed]",
      "text/plain": [
       "<Figure size 432x288 with 1 Axes>"
      ]
     },
     "metadata": {
      "needs_background": "light"
     },
     "output_type": "display_data"
    }
   ],
   "source": [
    "plt.imshow(cropped_images[10])"
   ]
  },
  {
   "cell_type": "code",
   "execution_count": 309,
   "metadata": {},
   "outputs": [
    {
     "data": {
      "text/plain": [
       "<matplotlib.image.AxesImage at 0x2e8f1094ef0>"
      ]
     },
     "execution_count": 309,
     "metadata": {},
     "output_type": "execute_result"
    },
    {
     "data": {
      "image/png": "[encoded data removed]",
      "text/plain": [
       "<Figure size 432x288 with 1 Axes>"
      ]
     },
     "metadata": {
      "needs_background": "light"
     },
     "output_type": "display_data"
    }
   ],
   "source": [
    "plt.imshow(cropped_images[11])"
   ]
  },
  {
   "cell_type": "code",
   "execution_count": 310,
   "metadata": {},
   "outputs": [
    {
     "data": {
      "text/plain": [
       "<matplotlib.image.AxesImage at 0x2e8f10f9208>"
      ]
     },
     "execution_count": 310,
     "metadata": {},
     "output_type": "execute_result"
    },
    {
     "data": {
      "image/png": "[encoded data removed]",
      "text/plain": [
       "<Figure size 432x288 with 1 Axes>"
      ]
     },
     "metadata": {
      "needs_background": "light"
     },
     "output_type": "display_data"
    }
   ],
   "source": [
    "plt.imshow(cropped_images[12])"
   ]
  },
  {
   "cell_type": "code",
   "execution_count": 311,
   "metadata": {},
   "outputs": [
    {
     "data": {
      "text/plain": [
       "<matplotlib.image.AxesImage at 0x2e8f114d400>"
      ]
     },
     "execution_count": 311,
     "metadata": {},
     "output_type": "execute_result"
    },
    {
     "data": {
      "image/png": "[encoded data removed]",
      "text/plain": [
       "<Figure size 432x288 with 1 Axes>"
      ]
     },
     "metadata": {
      "needs_background": "light"
     },
     "output_type": "display_data"
    }
   ],
   "source": [
    "plt.imshow(cropped_images[13])"
   ]
  },
  {
   "cell_type": "code",
   "execution_count": 312,
   "metadata": {},
   "outputs": [
    {
     "data": {
      "text/plain": [
       "<matplotlib.image.AxesImage at 0x2e8f11a3668>"
      ]
     },
     "execution_count": 312,
     "metadata": {},
     "output_type": "execute_result"
    },
    {
     "data": {
      "image/png": "[encoded data removed]",
      "text/plain": [
       "<Figure size 432x288 with 1 Axes>"
      ]
     },
     "metadata": {
      "needs_background": "light"
     },
     "output_type": "display_data"
    }
   ],
   "source": [
    "plt.imshow(cropped_images[14])"
   ]
  },
  {
   "cell_type": "code",
   "execution_count": 313,
   "metadata": {},
   "outputs": [
    {
     "data": {
      "text/plain": [
       "{'2',\n",
       " '3',\n",
       " '4',\n",
       " '5',\n",
       " '6',\n",
       " '7',\n",
       " '8',\n",
       " 'b',\n",
       " 'c',\n",
       " 'd',\n",
       " 'e',\n",
       " 'f',\n",
       " 'g',\n",
       " 'm',\n",
       " 'n',\n",
       " 'p',\n",
       " 'w',\n",
       " 'x',\n",
       " 'y'}"
      ]
     },
     "execution_count": 313,
     "metadata": {},
     "output_type": "execute_result"
    }
   ],
   "source": [
    "set(cropped_images_labels)"
   ]
  },
  {
   "cell_type": "code",
   "execution_count": 314,
   "metadata": {},
   "outputs": [],
   "source": [
    "for image in cropped_images:\n",
    "    image=image/255.0"
   ]
  },
  {
   "cell_type": "code",
   "execution_count": 315,
   "metadata": {},
   "outputs": [
    {
     "data": {
      "text/plain": [
       "1000"
      ]
     },
     "execution_count": 315,
     "metadata": {},
     "output_type": "execute_result"
    }
   ],
   "source": [
    "image.size"
   ]
  },
  {
   "cell_type": "code",
   "execution_count": 316,
   "metadata": {},
   "outputs": [
    {
     "data": {
      "text/plain": [
       "(50, 20)"
      ]
     },
     "execution_count": 316,
     "metadata": {},
     "output_type": "execute_result"
    }
   ],
   "source": [
    "image.shape"
   ]
  },
  {
   "cell_type": "code",
   "execution_count": 317,
   "metadata": {},
   "outputs": [
    {
     "data": {
      "text/plain": [
       "36"
      ]
     },
     "execution_count": 317,
     "metadata": {},
     "output_type": "execute_result"
    }
   ],
   "source": [
    "label_characters=string.ascii_lowercase+str(string.digits)\n",
    "len(label_characters)"
   ]
  },
  {
   "cell_type": "code",
   "execution_count": 318,
   "metadata": {},
   "outputs": [],
   "source": [
    "cropped_images_tensor=tf.convert_to_tensor(cropped_images)"
   ]
  },
  {
   "cell_type": "code",
   "execution_count": 319,
   "metadata": {},
   "outputs": [
    {
     "data": {
      "text/plain": [
       "TensorShape([5325, 50, 20])"
      ]
     },
     "execution_count": 319,
     "metadata": {},
     "output_type": "execute_result"
    }
   ],
   "source": [
    "cropped_images_tensor.shape"
   ]
  },
  {
   "cell_type": "code",
   "execution_count": 320,
   "metadata": {},
   "outputs": [],
   "source": [
    "inp_shape=(50,20,1)"
   ]
  },
  {
   "cell_type": "code",
   "execution_count": 321,
   "metadata": {},
   "outputs": [],
   "source": [
    "model = tf.keras.models.Sequential([\n",
    "  tf.keras.layers.Conv2D(64, (3,3), activation='relu', input_shape=inp_shape),\n",
    "  tf.keras.layers.MaxPooling2D(2, 2),\n",
    "  tf.keras.layers.Conv2D(64, (3,3), activation='relu'),\n",
    "  tf.keras.layers.MaxPooling2D(2,2),\n",
    "  tf.keras.layers.Flatten(),\n",
    "  tf.keras.layers.Dense(128, activation='relu'),\n",
    "  #tf.keras.layers.Dropout(0.5),\n",
    "  tf.keras.layers.Dense(36, activation='softmax')\n",
    "])"
   ]
  },
  {
   "cell_type": "code",
   "execution_count": 322,
   "metadata": {},
   "outputs": [],
   "source": [
    "model.compile(optimizer='adam', loss='sparse_categorical_crossentropy', metrics=['accuracy'])"
   ]
  },
  {
   "cell_type": "code",
   "execution_count": 323,
   "metadata": {},
   "outputs": [
    {
     "name": "stdout",
     "output_type": "stream",
     "text": [
      "Model: \"sequential_12\"\n",
      "_________________________________________________________________\n",
      "Layer (type)                 Output Shape              Param #   \n",
      "=================================================================\n",
      "conv2d_24 (Conv2D)           (None, 48, 18, 64)        640       \n",
      "_________________________________________________________________\n",
      "max_pooling2d_24 (MaxPooling (None, 24, 9, 64)         0         \n",
      "_________________________________________________________________\n",
      "conv2d_25 (Conv2D)           (None, 22, 7, 64)         36928     \n",
      "_________________________________________________________________\n",
      "max_pooling2d_25 (MaxPooling (None, 11, 3, 64)         0         \n",
      "_________________________________________________________________\n",
      "flatten_12 (Flatten)         (None, 2112)              0         \n",
      "_________________________________________________________________\n",
      "dense_24 (Dense)             (None, 128)               270464    \n",
      "_________________________________________________________________\n",
      "dense_25 (Dense)             (None, 36)                4644      \n",
      "=================================================================\n",
      "Total params: 312,676\n",
      "Trainable params: 312,676\n",
      "Non-trainable params: 0\n",
      "_________________________________________________________________\n"
     ]
    }
   ],
   "source": [
    "model.summary()"
   ]
  },
  {
   "cell_type": "code",
   "execution_count": 324,
   "metadata": {},
   "outputs": [],
   "source": [
    "for n, i in enumerate(cropped_images_labels):\n",
    "    if i == '2':\n",
    "        cropped_images_labels[n] = 2\n",
    "    if i == '3':\n",
    "        cropped_images_labels[n] = 3\n",
    "    if i == '4':\n",
    "        cropped_images_labels[n] = 4\n",
    "    if i == '5':\n",
    "        cropped_images_labels[n] = 5\n",
    "    if i == '6':\n",
    "        cropped_images_labels[n] = 6\n",
    "    if i == '7':\n",
    "        cropped_images_labels[n] = 7\n",
    "    if i == '8':\n",
    "        cropped_images_labels[n] = 8\n",
    "    if i == 'b':\n",
    "        cropped_images_labels[n] = 10\n",
    "    if i == 'c':\n",
    "        cropped_images_labels[n] = 11\n",
    "    if i == 'd':\n",
    "        cropped_images_labels[n] = 12\n",
    "    if i == 'e':\n",
    "        cropped_images_labels[n] = 13\n",
    "    if i == 'f':\n",
    "        cropped_images_labels[n] = 14\n",
    "    if i == 'g':\n",
    "        cropped_images_labels[n] = 15\n",
    "    if i == 'm':\n",
    "        cropped_images_labels[n] = 16\n",
    "    if i == 'n':\n",
    "        cropped_images_labels[n] = 17\n",
    "    if i == 'p':\n",
    "        cropped_images_labels[n] = 18\n",
    "    if i == 'w':\n",
    "        cropped_images_labels[n] = 19\n",
    "    if i == 'x':\n",
    "        cropped_images_labels[n] = 0\n",
    "    if i == 'y':\n",
    "        cropped_images_labels[n] = 1"
   ]
  },
  {
   "cell_type": "code",
   "execution_count": 325,
   "metadata": {},
   "outputs": [],
   "source": [
    "cropped_images_labels=np.array(cropped_images_labels)"
   ]
  },
  {
   "cell_type": "code",
   "execution_count": 326,
   "metadata": {},
   "outputs": [],
   "source": [
    "cropped_images_tensor=np.array(cropped_images_tensor)"
   ]
  },
  {
   "cell_type": "code",
   "execution_count": 327,
   "metadata": {},
   "outputs": [],
   "source": [
    "cropped_images_tensor=cropped_images_tensor.reshape((5325,50,20,1))"
   ]
  },
  {
   "cell_type": "code",
   "execution_count": 328,
   "metadata": {},
   "outputs": [
    {
     "data": {
      "text/plain": [
       "(5325, 50, 20, 1)"
      ]
     },
     "execution_count": 328,
     "metadata": {},
     "output_type": "execute_result"
    }
   ],
   "source": [
    "cropped_images_tensor.shape"
   ]
  },
  {
   "cell_type": "code",
   "execution_count": 329,
   "metadata": {},
   "outputs": [
    {
     "name": "stdout",
     "output_type": "stream",
     "text": [
      "Train on 5325 samples\n",
      "Epoch 1/30\n",
      "5325/5325 [==============================] - 10s 2ms/sample - loss: 1.6546 - accuracy: 0.5532\n",
      "Epoch 2/30\n",
      "5325/5325 [==============================] - 9s 2ms/sample - loss: 0.6282 - accuracy: 0.8308\n",
      "Epoch 3/30\n",
      "5325/5325 [==============================] - 9s 2ms/sample - loss: 0.4475 - accuracy: 0.8787\n",
      "Epoch 4/30\n",
      "5325/5325 [==============================] - 9s 2ms/sample - loss: 0.3396 - accuracy: 0.9042\n",
      "Epoch 5/30\n",
      "5325/5325 [==============================] - 9s 2ms/sample - loss: 0.2867 - accuracy: 0.9140\n",
      "Epoch 6/30\n",
      "5325/5325 [==============================] - 9s 2ms/sample - loss: 0.2365 - accuracy: 0.9294\n",
      "Epoch 7/30\n",
      "5325/5325 [==============================] - 9s 2ms/sample - loss: 0.1913 - accuracy: 0.9382\n",
      "Epoch 8/30\n",
      "5325/5325 [==============================] - 9s 2ms/sample - loss: 0.1743 - accuracy: 0.9408\n",
      "Epoch 9/30\n",
      "5325/5325 [==============================] - 9s 2ms/sample - loss: 0.1464 - accuracy: 0.95060s - loss: 0.1461 - accu\n",
      "Epoch 10/30\n",
      "5325/5325 [==============================] - 9s 2ms/sample - loss: 0.1193 - accuracy: 0.9572\n",
      "Epoch 11/30\n",
      "5325/5325 [==============================] - 9s 2ms/sample - loss: 0.1164 - accuracy: 0.9589\n",
      "Epoch 12/30\n",
      "5325/5325 [==============================] - 9s 2ms/sample - loss: 0.0925 - accuracy: 0.96390s - loss: 0.0913 - accuracy: \n",
      "Epoch 13/30\n",
      "5325/5325 [==============================] - 9s 2ms/sample - loss: 0.0994 - accuracy: 0.9617\n",
      "Epoch 14/30\n",
      "5325/5325 [==============================] - 9s 2ms/sample - loss: 0.0778 - accuracy: 0.9703\n",
      "Epoch 15/30\n",
      "5325/5325 [==============================] - 9s 2ms/sample - loss: 0.0672 - accuracy: 0.9745\n",
      "Epoch 16/30\n",
      "5325/5325 [==============================] - 9s 2ms/sample - loss: 0.0623 - accuracy: 0.9773\n",
      "Epoch 17/30\n",
      "5325/5325 [==============================] - 9s 2ms/sample - loss: 0.0668 - accuracy: 0.9733\n",
      "Epoch 18/30\n",
      "5325/5325 [==============================] - 9s 2ms/sample - loss: 0.0530 - accuracy: 0.9803\n",
      "Epoch 19/30\n",
      "5325/5325 [==============================] - 9s 2ms/sample - loss: 0.0485 - accuracy: 0.9812\n",
      "Epoch 20/30\n",
      "5325/5325 [==============================] - 9s 2ms/sample - loss: 0.0381 - accuracy: 0.9840\n",
      "Epoch 21/30\n",
      "5325/5325 [==============================] - 9s 2ms/sample - loss: 0.0427 - accuracy: 0.9833\n",
      "Epoch 22/30\n",
      "5325/5325 [==============================] - 9s 2ms/sample - loss: 0.0435 - accuracy: 0.9859\n",
      "Epoch 23/30\n",
      "5325/5325 [==============================] - 10s 2ms/sample - loss: 0.0469 - accuracy: 0.9822\n",
      "Epoch 24/30\n",
      "5325/5325 [==============================] - 10s 2ms/sample - loss: 0.0414 - accuracy: 0.9848\n",
      "Epoch 25/30\n",
      "5325/5325 [==============================] - 9s 2ms/sample - loss: 0.0335 - accuracy: 0.9870\n",
      "Epoch 26/30\n",
      "5325/5325 [==============================] - 9s 2ms/sample - loss: 0.0305 - accuracy: 0.9876\n",
      "Epoch 27/30\n",
      "5325/5325 [==============================] - 9s 2ms/sample - loss: 0.0324 - accuracy: 0.9880\n",
      "Epoch 28/30\n",
      "5325/5325 [==============================] - 9s 2ms/sample - loss: 0.0277 - accuracy: 0.9908\n",
      "Epoch 29/30\n",
      "5325/5325 [==============================] - 9s 2ms/sample - loss: 0.0277 - accuracy: 0.98990s - loss: 0.0274 - accuracy: 0.\n",
      "Epoch 30/30\n",
      "5325/5325 [==============================] - 9s 2ms/sample - loss: 0.0252 - accuracy: 0.9904\n"
     ]
    }
   ],
   "source": [
    "history = model.fit(cropped_images_tensor, cropped_images_labels, epochs=30, batch_size=32)"
   ]
  },
  {
   "cell_type": "code",
   "execution_count": 330,
   "metadata": {},
   "outputs": [
    {
     "data": {
      "text/plain": [
       "<matplotlib.image.AxesImage at 0x2e8e9a7d278>"
      ]
     },
     "execution_count": 330,
     "metadata": {},
     "output_type": "execute_result"
    },
    {
     "data": {
      "image/png": "[encoded data removed]",
      "text/plain": [
       "<Figure size 432x288 with 1 Axes>"
      ]
     },
     "metadata": {
      "needs_background": "light"
     },
     "output_type": "display_data"
    }
   ],
   "source": [
    "test_image_1='test1.png'\n",
    "test_image_1=io.imread((test_image_1))\n",
    "plt.imshow(test_image_1)"
   ]
  },
  {
   "cell_type": "code",
   "execution_count": 331,
   "metadata": {},
   "outputs": [
    {
     "data": {
      "text/plain": [
       "<matplotlib.image.AxesImage at 0x2e8d7676978>"
      ]
     },
     "execution_count": 331,
     "metadata": {},
     "output_type": "execute_result"
    },
    {
     "data": {
      "image/png": "[encoded data removed]",
      "text/plain": [
       "<Figure size 432x288 with 1 Axes>"
      ]
     },
     "metadata": {
      "needs_background": "light"
     },
     "output_type": "display_data"
    }
   ],
   "source": [
    "test_image_2='test2.png'\n",
    "test_image_2=io.imread((test_image_2))\n",
    "plt.imshow(test_image_2)"
   ]
  },
  {
   "cell_type": "code",
   "execution_count": 332,
   "metadata": {},
   "outputs": [
    {
     "data": {
      "text/plain": [
       "<matplotlib.image.AxesImage at 0x2e8e9c750b8>"
      ]
     },
     "execution_count": 332,
     "metadata": {},
     "output_type": "execute_result"
    },
    {
     "data": {
      "image/png": "[encoded data removed]",
      "text/plain": [
       "<Figure size 432x288 with 1 Axes>"
      ]
     },
     "metadata": {
      "needs_background": "light"
     },
     "output_type": "display_data"
    }
   ],
   "source": [
    "test_image_3='test3.png'\n",
    "test_image_3=io.imread((test_image_3))\n",
    "plt.imshow(test_image_3)"
   ]
  },
  {
   "cell_type": "code",
   "execution_count": 333,
   "metadata": {},
   "outputs": [
    {
     "data": {
      "text/plain": [
       "<matplotlib.image.AxesImage at 0x2e8e982b780>"
      ]
     },
     "execution_count": 333,
     "metadata": {},
     "output_type": "execute_result"
    },
    {
     "data": {
      "image/png": "[encoded data removed]",
      "text/plain": [
       "<Figure size 432x288 with 1 Axes>"
      ]
     },
     "metadata": {
      "needs_background": "light"
     },
     "output_type": "display_data"
    }
   ],
   "source": [
    "test_image_4='test4.png'\n",
    "test_image_4=io.imread((test_image_4))\n",
    "plt.imshow(test_image_4)"
   ]
  },
  {
   "cell_type": "code",
   "execution_count": 334,
   "metadata": {},
   "outputs": [
    {
     "data": {
      "text/plain": [
       "<matplotlib.image.AxesImage at 0x2e8d738de10>"
      ]
     },
     "execution_count": 334,
     "metadata": {},
     "output_type": "execute_result"
    },
    {
     "data": {
      "image/png": "[encoded data removed]",
      "text/plain": [
       "<Figure size 432x288 with 1 Axes>"
      ]
     },
     "metadata": {
      "needs_background": "light"
     },
     "output_type": "display_data"
    }
   ],
   "source": [
    "test_image_5='test5.png'\n",
    "test_image_5=io.imread((test_image_5))\n",
    "plt.imshow(test_image_5)"
   ]
  },
  {
   "cell_type": "code",
   "execution_count": 337,
   "metadata": {},
   "outputs": [],
   "source": [
    "test_image_1='test1.png'\n",
    "test_image_2='test2.png'\n",
    "test_image_3='test3.png'\n",
    "test_image_4='test4.png'\n",
    "test_image_5='test5.png'\n",
    "test_images=[test_image_1,test_image_2,test_image_3,test_image_4,test_image_5]"
   ]
  },
  {
   "cell_type": "code",
   "execution_count": 338,
   "metadata": {},
   "outputs": [],
   "source": [
    "cropped_test_images=[]\n",
    "for i in test_images:\n",
    "    image=io.imread((i), as_gray=True)\n",
    "    crop_test_image_1=image[0:50, 30:50]\n",
    "    crop_test_image_2=image[0:50, 50:70]\n",
    "    crop_test_image_3=image[0:50, 70:90]\n",
    "    crop_test_image_4=image[0:50, 95:115]\n",
    "    crop_test_image_5=image[0:50, 115:135]\n",
    "\n",
    "    cropped_test_images.append(crop_test_image_1)\n",
    "    cropped_test_images.append(crop_test_image_2)\n",
    "    cropped_test_images.append(crop_test_image_3)\n",
    "    cropped_test_images.append(crop_test_image_4)\n",
    "    cropped_test_images.append(crop_test_image_5)"
   ]
  },
  {
   "cell_type": "code",
   "execution_count": 339,
   "metadata": {},
   "outputs": [],
   "source": [
    "cropped_test_images_tensor=tf.convert_to_tensor(cropped_test_images)\n",
    "cropped_test_images_tensor=np.array(cropped_test_images_tensor)"
   ]
  },
  {
   "cell_type": "code",
   "execution_count": 340,
   "metadata": {},
   "outputs": [],
   "source": [
    "cropped_test_images_tensor=cropped_test_images_tensor.reshape((25, 50, 20,1))"
   ]
  },
  {
   "cell_type": "code",
   "execution_count": 341,
   "metadata": {},
   "outputs": [],
   "source": [
    "yhat=model.predict(cropped_test_images_tensor)"
   ]
  },
  {
   "cell_type": "code",
   "execution_count": 342,
   "metadata": {},
   "outputs": [
    {
     "data": {
      "text/plain": [
       "(25, 36)"
      ]
     },
     "execution_count": 342,
     "metadata": {},
     "output_type": "execute_result"
    }
   ],
   "source": [
    "yhat.shape"
   ]
  },
  {
   "cell_type": "code",
   "execution_count": 349,
   "metadata": {},
   "outputs": [],
   "source": [
    "d=[]\n",
    "for i in yhat:\n",
    "    d.append(np.argmax(i))\n"
   ]
  },
  {
   "cell_type": "code",
   "execution_count": 350,
   "metadata": {},
   "outputs": [],
   "source": [
    "e=[]\n",
    "for i in d:    \n",
    "    if i == 2:\n",
    "        e.append('2')\n",
    "    if i == 3:\n",
    "        e.append('3')\n",
    "    if i == 4:\n",
    "        e.append('4')\n",
    "    if i == 5:\n",
    "        e.append('5')\n",
    "    if i == 6:\n",
    "        e.append('6')\n",
    "    if i == 7:\n",
    "        e.append('7')\n",
    "    if i == 8:\n",
    "        e.append('8')\n",
    "    if i == 10:\n",
    "        e.append('b')\n",
    "    if i == 11:\n",
    "        e.append('c')\n",
    "    if i == 12:\n",
    "        e.append('d')\n",
    "    if i == 13:\n",
    "        e.append('e')\n",
    "    if i == 14:\n",
    "        e.append('f')\n",
    "    if i == 15:\n",
    "        e.append('g')\n",
    "    if i == 16:\n",
    "        e.append('m')\n",
    "    if i == 17:\n",
    "        e.append('n')\n",
    "    if i == 18:\n",
    "        e.append('p')\n",
    "    if i == 19:\n",
    "        e.append('w')\n",
    "    if i == 0:\n",
    "        e.append('x')\n",
    "    if i == 1:\n",
    "        e.append('y')"
   ]
  },
  {
   "cell_type": "code",
   "execution_count": 351,
   "metadata": {},
   "outputs": [
    {
     "name": "stdout",
     "output_type": "stream",
     "text": [
      "The captcha text is\n",
      "Test Label 1: 3nnpw\n",
      "Test Label 2: 763by\n",
      "Test Label 3: p7fyp\n",
      "Test Label 4: 8db67\n",
      "Test Label 5: x6b5m\n"
     ]
    }
   ],
   "source": [
    "s=''\n",
    "a=s.join(e)\n",
    "test_label_1=a[:5]\n",
    "test_label_2=a[5:10]\n",
    "test_label_3=a[10:15]\n",
    "test_label_4=a[15:20]\n",
    "test_label_5=a[20:25]\n",
    "print('The captcha text is')\n",
    "print('Test Label 1:',test_label_1)\n",
    "print('Test Label 2:',test_label_2)\n",
    "print('Test Label 3:',test_label_3)\n",
    "print('Test Label 4:',test_label_4)\n",
    "print('Test Label 5:',test_label_5)"
   ]
  },
  {
   "cell_type": "code",
   "execution_count": null,
   "metadata": {},
   "outputs": [],
   "source": []
  }
 ],
 "metadata": {
  "kernelspec": {
   "display_name": "Python 3",
   "language": "python",
   "name": "python3"
  },
  "language_info": {
   "codemirror_mode": {
    "name": "ipython",
    "version": 3
   },
   "file_extension": ".py",
   "mimetype": "text/x-python",
   "name": "python",
   "nbconvert_exporter": "python",
   "pygments_lexer": "ipython3",
   "version": "3.7.3"
  }
 },
 "nbformat": 4,
 "nbformat_minor": 4
}
